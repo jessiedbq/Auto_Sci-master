{
 "cells": [
  {
   "cell_type": "code",
   "execution_count": 2,
   "metadata": {
    "collapsed": true
   },
   "outputs": [],
   "source": [
    "import matplotlib.pyplot as plt\n",
    "import numpy as np\n",
    "import math\n",
    "import torch\n",
    "import gpytorch\n",
    "\n",
    "%matplotlib inline\n",
    "%load_ext autoreload\n",
    "%autoreload 2"
   ]
  },
  {
   "cell_type": "code",
   "execution_count": 4,
   "metadata": {},
   "outputs": [],
   "source": [
    "#import data\n",
    "observation_file = '../data/FHN_Data/observations.csv'\n",
    "time_file = '../data/FHN_Data/time.csv'\n",
    "XInit_file = '../data/FHN_Data/XInit.csv'\n",
    "\n",
    "\n",
    "#import Observations, 2 states perturbed by noise, sliced as y0, y1\n",
    "Y = np.genfromtxt(observation_file)\n",
    "y0 = Y[:, 0]\n",
    "y1 = Y[:, 1]\n",
    "\n",
    "#import Time\n",
    "t = np.genfromtxt(time_file)\n",
    "\n",
    "#import XInit\n",
    "XInit = np.genfromtxt(XInit_file)\n",
    "x0_init = XInit[0]\n",
    "x1_init = XInit[1]\n",
    "\n",
    "\n"
   ]
  },
  {
   "cell_type": "code",
   "execution_count": 5,
   "metadata": {},
   "outputs": [
    {
     "name": "stdout",
     "output_type": "stream",
     "text": [
      "y0: (41,)\n",
      "y1: (41,)\n",
      "t: (41,)\n",
      "XInit: (2,)\n"
     ]
    }
   ],
   "source": [
    "#Check Data shape\n",
    "print('y0:', y0.shape)\n",
    "print('y1:', y1.shape)\n",
    "print('t:', t.shape)\n",
    "print('XInit:', XInit.shape)\n"
   ]
  },
  {
   "cell_type": "code",
   "execution_count": 6,
   "metadata": {},
   "outputs": [
    {
     "data": {
      "text/plain": [
       "<matplotlib.collections.PathCollection at 0x11cae5a58>"
      ]
     },
     "execution_count": 6,
     "metadata": {},
     "output_type": "execute_result"
    },
    {
     "data": {
      "image/png": "[encoded data removed]",
      "text/plain": [
       "<Figure size 720x720 with 2 Axes>"
      ]
     },
     "metadata": {
      "needs_background": "light"
     },
     "output_type": "display_data"
    }
   ],
   "source": [
    "# Data visualization\n",
    "fig = plt.figure(figsize=(10, 10))\n",
    "ax1 = fig.add_subplot(211)\n",
    "ax2 = fig.add_subplot(212)\n",
    "ax1.scatter(t, y0)\n",
    "ax2.scatter(t, y1)"
   ]
  },
  {
   "cell_type": "code",
   "execution_count": 10,
   "metadata": {},
   "outputs": [],
   "source": [
    "train_t = torch.from_numpy(t)\n",
    "train_y0 = torch.from_numpy(y0)\n",
    "train_y1 = torch.from_numpy(y1)\n",
    "\n",
    "#train_x"
   ]
  },
  {
   "cell_type": "code",
   "execution_count": 11,
   "metadata": {
    "collapsed": true
   },
   "outputs": [],
   "source": [
    "# We will use the simplest form of GP model, exact inference\n",
    "\n",
    "#RBF Kernel\n",
    "class ExactGPModel(gpytorch.models.ExactGP):\n",
    "    def __init__(self, train_x, train_y, likelihood):\n",
    "        super(ExactGPModel, self).__init__(train_x, train_y, likelihood)\n",
    "        self.mean_module = gpytorch.means.ConstantMean()\n",
    "        self.covar_module = gpytorch.kernels.ScaleKernel(gpytorch.kernels.RBFKernel())\n",
    "        #self.covar_module = gpytorch.kernels.ScaleKernel(gpytorch.kernels.MaternKernel(nu=0.5))\n",
    "        #self.covar_module = gpytorch.kernels.ScaleKernel(gpytorch.kernels.MaternKernel(nu=1.5))\n",
    "    \n",
    "    def forward(self, x):\n",
    "        mean_x = self.mean_module(x)\n",
    "        covar_x = self.covar_module(x)\n",
    "        return gpytorch.distributions.MultivariateNormal(mean_x, covar_x)\n",
    "    \n",
    "#Mattern Kernel\n",
    "\n",
    "class GP_Matern(gpytorch.models.ExactGP):\n",
    "    def __init__(self, train_x, train_y, likelihood):\n",
    "        super(GP_Mattern, self).__init__(train_x, train_y, likelihood)\n",
    "        self.mean_module = gpytorch.means.ConstantMean()\n",
    "        self.covar_module = gpytorch.kernels.ScaleKernel(gpytorch.kernels.MaternKernel(nu=0.5))\n",
    "    \n",
    "    def forward(self, x):\n",
    "        mean_x = self.mean_module(x)\n",
    "        covar_x = self.covar_module(x)\n",
    "        return gpytorch.distributions.MultivariateNormal(mean_x, covar_x)\n"
   ]
  },
  {
   "cell_type": "code",
   "execution_count": 14,
   "metadata": {},
   "outputs": [],
   "source": [
    "# initialize likelihood and model(RBF)\n",
    "likelihood_y0_t = gpytorch.likelihoods.GaussianLikelihood()\n",
    "model_y0_t = ExactGPModel(train_t, train_y0, likelihood_y0_t)\n",
    "\n",
    "\n",
    "likelihood_y1_t = gpytorch.likelihoods.GaussianLikelihood()\n",
    "model_y1_t = ExactGPModel(train_t, train_y1, likelihood_y1_t)\n",
    "\n"
   ]
  },
  {
   "cell_type": "code",
   "execution_count": 15,
   "metadata": {},
   "outputs": [
    {
     "name": "stdout",
     "output_type": "stream",
     "text": [
      "Iter 1/50 - Loss: 1.358   log_lengthscale: 0.000   log_noise: 0.000\n",
      "Iter 2/50 - Loss: 1.310   log_lengthscale: 0.100   log_noise: -0.100\n",
      "Iter 3/50 - Loss: 1.274   log_lengthscale: 0.185   log_noise: -0.200\n",
      "Iter 4/50 - Loss: 1.260   log_lengthscale: 0.238   log_noise: -0.299\n",
      "Iter 5/50 - Loss: 1.256   log_lengthscale: 0.245   log_noise: -0.398\n",
      "Iter 6/50 - Loss: 1.225   log_lengthscale: 0.253   log_noise: -0.496\n",
      "Iter 7/50 - Loss: 1.194   log_lengthscale: 0.247   log_noise: -0.593\n",
      "Iter 8/50 - Loss: 1.185   log_lengthscale: 0.245   log_noise: -0.690\n",
      "Iter 9/50 - Loss: 1.173   log_lengthscale: 0.231   log_noise: -0.786\n",
      "Iter 10/50 - Loss: 1.151   log_lengthscale: 0.215   log_noise: -0.880\n",
      "Iter 11/50 - Loss: 1.144   log_lengthscale: 0.200   log_noise: -0.973\n",
      "Iter 12/50 - Loss: 1.113   log_lengthscale: 0.181   log_noise: -1.063\n",
      "Iter 13/50 - Loss: 1.107   log_lengthscale: 0.152   log_noise: -1.150\n",
      "Iter 14/50 - Loss: 1.082   log_lengthscale: 0.125   log_noise: -1.236\n",
      "Iter 15/50 - Loss: 1.125   log_lengthscale: 0.089   log_noise: -1.318\n",
      "Iter 16/50 - Loss: 1.066   log_lengthscale: 0.091   log_noise: -1.396\n",
      "Iter 17/50 - Loss: 1.059   log_lengthscale: 0.085   log_noise: -1.468\n",
      "Iter 18/50 - Loss: 1.116   log_lengthscale: 0.069   log_noise: -1.535\n",
      "Iter 19/50 - Loss: 1.098   log_lengthscale: 0.073   log_noise: -1.595\n",
      "Iter 20/50 - Loss: 1.097   log_lengthscale: 0.103   log_noise: -1.648\n",
      "Iter 21/50 - Loss: 1.100   log_lengthscale: 0.123   log_noise: -1.693\n",
      "Iter 22/50 - Loss: 1.063   log_lengthscale: 0.147   log_noise: -1.727\n",
      "Iter 23/50 - Loss: 1.097   log_lengthscale: 0.129   log_noise: -1.750\n",
      "Iter 24/50 - Loss: 1.198   log_lengthscale: 0.102   log_noise: -1.763\n",
      "Iter 25/50 - Loss: 1.115   log_lengthscale: 0.082   log_noise: -1.766\n",
      "Iter 26/50 - Loss: 1.055   log_lengthscale: 0.073   log_noise: -1.760\n",
      "Iter 27/50 - Loss: 1.103   log_lengthscale: 0.045   log_noise: -1.748\n",
      "Iter 28/50 - Loss: 1.116   log_lengthscale: 0.039   log_noise: -1.730\n",
      "Iter 29/50 - Loss: 1.168   log_lengthscale: 0.047   log_noise: -1.707\n",
      "Iter 30/50 - Loss: 1.058   log_lengthscale: 0.081   log_noise: -1.679\n",
      "Iter 31/50 - Loss: 1.080   log_lengthscale: 0.118   log_noise: -1.648\n",
      "Iter 32/50 - Loss: 1.095   log_lengthscale: 0.134   log_noise: -1.616\n",
      "Iter 33/50 - Loss: 1.089   log_lengthscale: 0.131   log_noise: -1.583\n",
      "Iter 34/50 - Loss: 1.055   log_lengthscale: 0.119   log_noise: -1.551\n",
      "Iter 35/50 - Loss: 1.133   log_lengthscale: 0.096   log_noise: -1.520\n",
      "Iter 36/50 - Loss: 1.101   log_lengthscale: 0.080   log_noise: -1.489\n",
      "Iter 37/50 - Loss: 1.108   log_lengthscale: 0.066   log_noise: -1.461\n",
      "Iter 38/50 - Loss: 1.125   log_lengthscale: 0.051   log_noise: -1.437\n",
      "Iter 39/50 - Loss: 1.056   log_lengthscale: 0.047   log_noise: -1.417\n",
      "Iter 40/50 - Loss: 1.063   log_lengthscale: 0.048   log_noise: -1.402\n",
      "Iter 41/50 - Loss: 1.080   log_lengthscale: 0.053   log_noise: -1.393\n",
      "Iter 42/50 - Loss: 1.117   log_lengthscale: 0.062   log_noise: -1.389\n",
      "Iter 43/50 - Loss: 1.135   log_lengthscale: 0.076   log_noise: -1.386\n",
      "Iter 44/50 - Loss: 1.053   log_lengthscale: 0.102   log_noise: -1.386\n",
      "Iter 45/50 - Loss: 1.120   log_lengthscale: 0.116   log_noise: -1.389\n",
      "Iter 46/50 - Loss: 1.044   log_lengthscale: 0.125   log_noise: -1.396\n",
      "Iter 47/50 - Loss: 1.062   log_lengthscale: 0.116   log_noise: -1.405\n",
      "Iter 48/50 - Loss: 1.119   log_lengthscale: 0.103   log_noise: -1.417\n",
      "Iter 49/50 - Loss: 1.093   log_lengthscale: 0.088   log_noise: -1.429\n",
      "Iter 50/50 - Loss: 1.171   log_lengthscale: 0.079   log_noise: -1.442\n"
     ]
    }
   ],
   "source": [
    "# Find optimal model hyperparameters for GP0(t)\n",
    "model_y0_t.train() # ????\n",
    "likelihood_y0_t.train()  # ????\n",
    "\n",
    "model_y0_t.double()\n",
    "\n",
    "# Use the adam optimizer\n",
    "optimizer = torch.optim.Adam([\n",
    "    {'params': model_y0_t.parameters()},  # Includes GaussianLikelihood parameters\n",
    "], lr=0.1)\n",
    "\n",
    "# \"Loss\" for GPs - the marginal log likelihood  # ????\n",
    "mll = gpytorch.mlls.ExactMarginalLogLikelihood(likelihood_y0_t, model_y0_t)\n",
    "\n",
    "training_iter = 50\n",
    "for i in range(training_iter):\n",
    "    # Zero gradients from previous iteration\n",
    "    optimizer.zero_grad()\n",
    "    # Output from model\n",
    "    output = model_y0_t(train_t)\n",
    "    # Calc loss and backprop gradients\n",
    "    loss = -mll(output, train_y0)\n",
    "    loss.backward()\n",
    "    print('Iter %d/%d - Loss: %.3f   log_lengthscale: %.3f   log_noise: %.3f' % (\n",
    "        i + 1, training_iter, loss.item(),\n",
    "        model_y0_t.covar_module.base_kernel.log_lengthscale.item(),\n",
    "        model_y0_t.likelihood.log_noise.item()\n",
    "    ))\n",
    "    optimizer.step()"
   ]
  },
  {
   "cell_type": "code",
   "execution_count": 16,
   "metadata": {},
   "outputs": [
    {
     "name": "stderr",
     "output_type": "stream",
     "text": [
      "/anaconda3/envs/gpytorch/lib/python3.7/site-packages/gpytorch/models/exact_gp.py:89: UserWarning: The input matches the stored training data. Did you forget to call model.train()?\n",
      "  \"The input matches the stored training data. Did you forget to call model.train()?\", UserWarning\n"
     ]
    }
   ],
   "source": [
    "# Get into evaluation (predictive posterior) mode\n",
    "model_y0_t.eval()\n",
    "likelihood_y0_t.eval()\n",
    "\n",
    "# Test points are regularly spaced along [0,1]\n",
    "# Make predictions by feeding model through likelihood\n",
    "with torch.no_grad(), gpytorch.fast_pred_var():   # ????\n",
    "    test_t = train_t\n",
    "    observed_pred = likelihood_y0_t(model_y0_t(test_t))"
   ]
  },
  {
   "cell_type": "code",
   "execution_count": 17,
   "metadata": {},
   "outputs": [
    {
     "data": {
      "image/png": "[encoded data removed]",
      "text/plain": [
       "<Figure size 720x360 with 1 Axes>"
      ]
     },
     "metadata": {
      "needs_background": "light"
     },
     "output_type": "display_data"
    }
   ],
   "source": [
    "with torch.no_grad():\n",
    "    # Initialize plot\n",
    "    f, ax = plt.subplots(1, 1, figsize=(10, 5))\n",
    "\n",
    "    # Get upper and lower confidence bounds\n",
    "    lower, upper = observed_pred.confidence_region()\n",
    "    # Plot training data as black stars\n",
    "    ax.plot(train_t.numpy(), train_y0.numpy(), 'k*')\n",
    "    # Plot predictive means as blue line\n",
    "    #ax.plot(test_t.numpy(), observed_pred.mean.numpy(), 'b')\n",
    "    ax.plot(test_t.numpy(), model_y0_t(test_t).mean.numpy(), 'b')\n",
    "    \n",
    "    # Shade between the lower and upper confidence bounds\n",
    "    ax.fill_between(test_t.numpy(), lower.numpy(), upper.numpy(), alpha=0.3)\n",
    "    ax.set_ylim([-3, 3])\n",
    "    ax.legend(['Observed Data', 'Mean', 'Confidence'])"
   ]
  },
  {
   "cell_type": "code",
   "execution_count": 18,
   "metadata": {},
   "outputs": [
    {
     "name": "stdout",
     "output_type": "stream",
     "text": [
      "Iter 1/50 - Loss: 1.156   log_lengthscale: 0.000   log_noise: 0.000\n",
      "Iter 2/50 - Loss: 1.089   log_lengthscale: 0.100   log_noise: -0.100\n",
      "Iter 3/50 - Loss: 1.037   log_lengthscale: 0.200   log_noise: -0.200\n",
      "Iter 4/50 - Loss: 0.999   log_lengthscale: 0.299   log_noise: -0.300\n",
      "Iter 5/50 - Loss: 0.953   log_lengthscale: 0.399   log_noise: -0.400\n",
      "Iter 6/50 - Loss: 0.899   log_lengthscale: 0.499   log_noise: -0.500\n",
      "Iter 7/50 - Loss: 0.851   log_lengthscale: 0.597   log_noise: -0.600\n",
      "Iter 8/50 - Loss: 0.811   log_lengthscale: 0.691   log_noise: -0.700\n",
      "Iter 9/50 - Loss: 0.770   log_lengthscale: 0.779   log_noise: -0.800\n",
      "Iter 10/50 - Loss: 0.735   log_lengthscale: 0.861   log_noise: -0.900\n",
      "Iter 11/50 - Loss: 0.701   log_lengthscale: 0.930   log_noise: -0.999\n",
      "Iter 12/50 - Loss: 0.669   log_lengthscale: 0.979   log_noise: -1.099\n",
      "Iter 13/50 - Loss: 0.635   log_lengthscale: 1.008   log_noise: -1.198\n",
      "Iter 14/50 - Loss: 0.600   log_lengthscale: 1.006   log_noise: -1.297\n",
      "Iter 15/50 - Loss: 0.563   log_lengthscale: 0.991   log_noise: -1.395\n",
      "Iter 16/50 - Loss: 0.526   log_lengthscale: 0.964   log_noise: -1.494\n",
      "Iter 17/50 - Loss: 0.492   log_lengthscale: 0.927   log_noise: -1.591\n",
      "Iter 18/50 - Loss: 0.461   log_lengthscale: 0.886   log_noise: -1.688\n",
      "Iter 19/50 - Loss: 0.435   log_lengthscale: 0.849   log_noise: -1.784\n",
      "Iter 20/50 - Loss: 0.409   log_lengthscale: 0.818   log_noise: -1.878\n",
      "Iter 21/50 - Loss: 0.381   log_lengthscale: 0.796   log_noise: -1.972\n",
      "Iter 22/50 - Loss: 0.364   log_lengthscale: 0.779   log_noise: -2.064\n",
      "Iter 23/50 - Loss: 0.347   log_lengthscale: 0.772   log_noise: -2.155\n",
      "Iter 24/50 - Loss: 0.323   log_lengthscale: 0.773   log_noise: -2.243\n",
      "Iter 25/50 - Loss: 0.315   log_lengthscale: 0.786   log_noise: -2.330\n",
      "Iter 26/50 - Loss: 0.296   log_lengthscale: 0.818   log_noise: -2.413\n",
      "Iter 27/50 - Loss: 0.286   log_lengthscale: 0.858   log_noise: -2.493\n",
      "Iter 28/50 - Loss: 0.272   log_lengthscale: 0.904   log_noise: -2.569\n",
      "Iter 29/50 - Loss: 0.273   log_lengthscale: 0.944   log_noise: -2.642\n",
      "Iter 30/50 - Loss: 0.263   log_lengthscale: 0.988   log_noise: -2.710\n",
      "Iter 31/50 - Loss: 0.261   log_lengthscale: 1.018   log_noise: -2.774\n",
      "Iter 32/50 - Loss: 0.263   log_lengthscale: 1.056   log_noise: -2.831\n",
      "Iter 33/50 - Loss: 0.266   log_lengthscale: 1.082   log_noise: -2.883\n",
      "Iter 34/50 - Loss: 0.270   log_lengthscale: 1.096   log_noise: -2.928\n",
      "Iter 35/50 - Loss: 0.269   log_lengthscale: 1.088   log_noise: -2.968\n",
      "Iter 36/50 - Loss: 0.274   log_lengthscale: 1.060   log_noise: -3.001\n",
      "Iter 37/50 - Loss: 0.274   log_lengthscale: 1.021   log_noise: -3.028\n",
      "Iter 38/50 - Loss: 0.273   log_lengthscale: 0.983   log_noise: -3.049\n",
      "Iter 39/50 - Loss: 0.280   log_lengthscale: 0.939   log_noise: -3.064\n",
      "Iter 40/50 - Loss: 0.274   log_lengthscale: 0.905   log_noise: -3.073\n",
      "Iter 41/50 - Loss: 0.272   log_lengthscale: 0.873   log_noise: -3.077\n",
      "Iter 42/50 - Loss: 0.274   log_lengthscale: 0.844   log_noise: -3.076\n",
      "Iter 43/50 - Loss: 0.309   log_lengthscale: 0.816   log_noise: -3.072\n",
      "Iter 44/50 - Loss: 0.300   log_lengthscale: 0.820   log_noise: -3.062\n",
      "Iter 45/50 - Loss: 0.284   log_lengthscale: 0.837   log_noise: -3.049\n",
      "Iter 46/50 - Loss: 0.273   log_lengthscale: 0.867   log_noise: -3.032\n",
      "Iter 47/50 - Loss: 0.275   log_lengthscale: 0.892   log_noise: -3.013\n",
      "Iter 48/50 - Loss: 0.273   log_lengthscale: 0.923   log_noise: -2.993\n",
      "Iter 49/50 - Loss: 0.269   log_lengthscale: 0.957   log_noise: -2.970\n",
      "Iter 50/50 - Loss: 0.263   log_lengthscale: 0.989   log_noise: -2.946\n"
     ]
    }
   ],
   "source": [
    "# Find optimal model hyperparameters for  GP1(t)\n",
    "model_y1_t.train() # ????\n",
    "likelihood_y1_t.train()  # ????\n",
    "\n",
    "model_y1_t.double()\n",
    "\n",
    "# Use the adam optimizer\n",
    "optimizer = torch.optim.Adam([\n",
    "    {'params': model_y1_t.parameters()},  # Includes GaussianLikelihood parameters\n",
    "], lr=0.1)\n",
    "\n",
    "# \"Loss\" for GPs - the marginal log likelihood  # ????\n",
    "mll = gpytorch.mlls.ExactMarginalLogLikelihood(likelihood_y1_t, model_y1_t)\n",
    "\n",
    "training_iter = 50\n",
    "for i in range(training_iter):\n",
    "    # Zero gradients from previous iteration\n",
    "    optimizer.zero_grad()\n",
    "    # Output from model\n",
    "    output = model_y1_t(train_t)\n",
    "    # Calc loss and backprop gradients\n",
    "    loss = -mll(output, train_y1)\n",
    "    loss.backward()\n",
    "    print('Iter %d/%d - Loss: %.3f   log_lengthscale: %.3f   log_noise: %.3f' % (\n",
    "        i + 1, training_iter, loss.item(),\n",
    "        model_y1_t.covar_module.base_kernel.log_lengthscale.item(),\n",
    "        model_y1_t.likelihood.log_noise.item()\n",
    "    ))\n",
    "    optimizer.step()"
   ]
  },
  {
   "cell_type": "code",
   "execution_count": 19,
   "metadata": {
    "collapsed": true
   },
   "outputs": [],
   "source": [
    "# Get into evaluation (predictive posterior) mode\n",
    "model_y1_t.eval()\n",
    "likelihood_y1_t.eval()\n",
    "\n",
    "# Test points are regularly spaced along [0,1]\n",
    "# Make predictions by feeding model through likelihood\n",
    "with torch.no_grad(), gpytorch.fast_pred_var():   # ????\n",
    "    test_t = train_t\n",
    "    observed_pred = likelihood_y1_t(model_y1_t(test_t))"
   ]
  },
  {
   "cell_type": "code",
   "execution_count": 20,
   "metadata": {},
   "outputs": [
    {
     "data": {
      "image/png": "[encoded data removed]",
      "text/plain": [
       "<Figure size 576x360 with 1 Axes>"
      ]
     },
     "metadata": {
      "needs_background": "light"
     },
     "output_type": "display_data"
    }
   ],
   "source": [
    "with torch.no_grad():\n",
    "    # Initialize plot\n",
    "    f, ax = plt.subplots(1, 1, figsize=(8, 5))\n",
    "\n",
    "    # Get upper and lower confidence bounds\n",
    "    lower, upper = observed_pred.confidence_region()\n",
    "    # Plot training data as black stars\n",
    "    ax.plot(train_t.numpy(), train_y1.numpy(), 'k*')\n",
    "    # Plot predictive means as blue line\n",
    "    ax.plot(test_t.numpy(), observed_pred.mean.numpy(), 'b')\n",
    "    # Shade between the lower and upper confidence bounds\n",
    "    ax.fill_between(test_t.numpy(), lower.numpy(), upper.numpy(), alpha=0.5)\n",
    "    ax.set_ylim([-3, 3])\n",
    "    ax.legend(['Observed Data', 'Mean', 'Confidence'])"
   ]
  },
  {
   "cell_type": "code",
   "execution_count": 22,
   "metadata": {},
   "outputs": [
    {
     "ename": "AttributeError",
     "evalue": "'numpy.ndarray' object has no attribute 'plot'",
     "output_type": "error",
     "traceback": [
      "\u001b[0;31m---------------------------------------------------------------------------\u001b[0m",
      "\u001b[0;31mAttributeError\u001b[0m                            Traceback (most recent call last)",
      "\u001b[0;32m<ipython-input-22-55a8b534f4b8>\u001b[0m in \u001b[0;36m<module>\u001b[0;34m\u001b[0m\n\u001b[1;32m      6\u001b[0m     \u001b[0mlower\u001b[0m\u001b[0;34m,\u001b[0m \u001b[0mupper\u001b[0m \u001b[0;34m=\u001b[0m \u001b[0mobserved_pred\u001b[0m\u001b[0;34m.\u001b[0m\u001b[0mconfidence_region\u001b[0m\u001b[0;34m(\u001b[0m\u001b[0;34m)\u001b[0m\u001b[0;34m\u001b[0m\u001b[0;34m\u001b[0m\u001b[0m\n\u001b[1;32m      7\u001b[0m     \u001b[0;31m# Plot training data as black stars\u001b[0m\u001b[0;34m\u001b[0m\u001b[0;34m\u001b[0m\u001b[0;34m\u001b[0m\u001b[0m\n\u001b[0;32m----> 8\u001b[0;31m     \u001b[0max\u001b[0m\u001b[0;34m.\u001b[0m\u001b[0mplot\u001b[0m\u001b[0;34m(\u001b[0m\u001b[0mtrain_t\u001b[0m\u001b[0;34m.\u001b[0m\u001b[0mnumpy\u001b[0m\u001b[0;34m(\u001b[0m\u001b[0;34m)\u001b[0m\u001b[0;34m,\u001b[0m \u001b[0mtrain_y0\u001b[0m\u001b[0;34m.\u001b[0m\u001b[0mnumpy\u001b[0m\u001b[0;34m(\u001b[0m\u001b[0;34m)\u001b[0m\u001b[0;34m,\u001b[0m \u001b[0;34m'k*'\u001b[0m\u001b[0;34m)\u001b[0m\u001b[0;34m\u001b[0m\u001b[0;34m\u001b[0m\u001b[0m\n\u001b[0m\u001b[1;32m      9\u001b[0m     \u001b[0;31m# Plot predictive means as blue line\u001b[0m\u001b[0;34m\u001b[0m\u001b[0;34m\u001b[0m\u001b[0;34m\u001b[0m\u001b[0m\n\u001b[1;32m     10\u001b[0m     \u001b[0;31m#ax.plot(test_t.numpy(), observed_pred.mean.numpy(), 'b')\u001b[0m\u001b[0;34m\u001b[0m\u001b[0;34m\u001b[0m\u001b[0;34m\u001b[0m\u001b[0m\n",
      "\u001b[0;31mAttributeError\u001b[0m: 'numpy.ndarray' object has no attribute 'plot'"
     ]
    },
    {
     "data": {
      "image/png": "[encoded data removed]",
      "text/plain": [
       "<Figure size 1080x360 with 2 Axes>"
      ]
     },
     "metadata": {
      "needs_background": "light"
     },
     "output_type": "display_data"
    }
   ],
   "source": [
    "with torch.no_grad():\n",
    "    # Initialize plot\n",
    "    f, ax = plt.subplots(1, 2, figsize=(15, 5))\n",
    "\n",
    "    # Get upper and lower confidence bounds\n",
    "    lower, upper = observed_pred.confidence_region()\n",
    "    # Plot training data as black stars\n",
    "    ax.plot(train_t.numpy(), train_y0.numpy(), 'k*')\n",
    "    # Plot predictive means as blue line\n",
    "    #ax.plot(test_t.numpy(), observed_pred.mean.numpy(), 'b')\n",
    "    ax.plot(test_t.numpy(), model_y0_t(test_t).mean.numpy(), 'b')\n",
    "    \n",
    "    # Shade between the lower and upper confidence bounds\n",
    "    ax.fill_between(test_t.numpy(), lower.numpy(), upper.numpy(), alpha=0.3)\n",
    "    ax.set_ylim([-3, 3])\n",
    "    ax.legend(['Observed Data', 'Mean', 'Confidence'])"
   ]
  },
  {
   "cell_type": "code",
   "execution_count": null,
   "metadata": {
    "collapsed": true
   },
   "outputs": [],
   "source": []
  }
 ],
 "metadata": {
  "kernelspec": {
   "display_name": "Python [conda env:gpytorch]",
   "language": "python",
   "name": "conda-env-gpytorch-py"
  },
  "language_info": {
   "codemirror_mode": {
    "name": "ipython",
    "version": 3
   },
   "file_extension": ".py",
   "mimetype": "text/x-python",
   "name": "python",
   "nbconvert_exporter": "python",
   "pygments_lexer": "ipython3",
   "version": "3.7.1"
  }
 },
 "nbformat": 4,
 "nbformat_minor": 2
}
